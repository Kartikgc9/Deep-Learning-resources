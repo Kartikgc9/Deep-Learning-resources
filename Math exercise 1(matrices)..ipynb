{
 "cells": [
  {
   "cell_type": "code",
   "execution_count": 10,
   "id": "3be053d9",
   "metadata": {},
   "outputs": [],
   "source": [
    "import numpy as np"
   ]
  },
  {
   "cell_type": "code",
   "execution_count": 11,
   "id": "2db3faf5",
   "metadata": {},
   "outputs": [],
   "source": [
    "revenue = np.array([[200,220,250],[68,79,105],[110,140,180],[80,85,90]])\n",
    "Ind_rates = 75*revenue"
   ]
  },
  {
   "cell_type": "code",
   "execution_count": 12,
   "id": "a02d6b66",
   "metadata": {},
   "outputs": [
    {
     "data": {
      "text/plain": [
       "array([[15000, 16500, 18750],\n",
       "       [ 5100,  5925,  7875],\n",
       "       [ 8250, 10500, 13500],\n",
       "       [ 6000,  6375,  6750]])"
      ]
     },
     "execution_count": 12,
     "metadata": {},
     "output_type": "execute_result"
    }
   ],
   "source": [
    "Ind_rates"
   ]
  },
  {
   "cell_type": "code",
   "execution_count": 14,
   "id": "03728079",
   "metadata": {},
   "outputs": [],
   "source": [
    "sales_of_flowers = np.array([[50,60,25] , [10,13,5] , [40,70,52]])\n",
    "prices_per_units = np.array([20,30,15])"
   ]
  },
  {
   "cell_type": "code",
   "execution_count": 15,
   "id": "eca73f12",
   "metadata": {},
   "outputs": [
    {
     "data": {
      "text/plain": [
       "array([[1000, 1800,  375],\n",
       "       [ 200,  390,   75],\n",
       "       [ 800, 2100,  780]])"
      ]
     },
     "execution_count": 15,
     "metadata": {},
     "output_type": "execute_result"
    }
   ],
   "source": [
    "total_sales = sales_of_flowers*prices_per_units\n",
    "total_sales"
   ]
  },
  {
   "cell_type": "code",
   "execution_count": 16,
   "id": "d00b0153",
   "metadata": {},
   "outputs": [
    {
     "data": {
      "text/plain": [
       "array([[1000, 1800,  375],\n",
       "       [ 200,  390,   75],\n",
       "       [ 800, 2100,  780]])"
      ]
     },
     "execution_count": 16,
     "metadata": {},
     "output_type": "execute_result"
    }
   ],
   "source": [
    "total_sale = np.dot(prices_per_units , sales_of_flowers)\n",
    "total_sales"
   ]
  }
 ],
 "metadata": {
  "kernelspec": {
   "display_name": "Python 3 (ipykernel)",
   "language": "python",
   "name": "python3"
  },
  "language_info": {
   "codemirror_mode": {
    "name": "ipython",
    "version": 3
   },
   "file_extension": ".py",
   "mimetype": "text/x-python",
   "name": "python",
   "nbconvert_exporter": "python",
   "pygments_lexer": "ipython3",
   "version": "3.10.9"
  }
 },
 "nbformat": 4,
 "nbformat_minor": 5
}
